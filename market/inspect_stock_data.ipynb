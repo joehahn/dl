{
 "cells": [
  {
   "cell_type": "code",
   "execution_count": 1,
   "metadata": {},
   "outputs": [],
   "source": [
    "#inspect_stock_data.ipynb\n",
    "#\n",
    "#by Joe Hahn\n",
    "#jmh.datasciences@gmail.com\n",
    "#23 January 2018\n",
    "#\n",
    "#this reads some NYSE data and makes some charts"
   ]
  },
  {
   "cell_type": "code",
   "execution_count": 2,
   "metadata": {},
   "outputs": [],
   "source": [
    "#prep matplotlib\n",
    "%matplotlib inline\n",
    "import seaborn as sns\n",
    "import matplotlib.pyplot as plt\n",
    "sns.set(font_scale=1.5)"
   ]
  },
  {
   "cell_type": "code",
   "execution_count": 3,
   "metadata": {},
   "outputs": [],
   "source": [
    "#import numpy and pandas\n",
    "import numpy as np\n",
    "import pandas as pd\n",
    "pd.set_option('display.max_columns', None)"
   ]
  },
  {
   "cell_type": "code",
   "execution_count": 4,
   "metadata": {},
   "outputs": [],
   "source": [
    "#select date ranges, for plotting and for models\n",
    "data_date_range  = ('2015-10-01', '2017-03-01')\n",
    "plot_date_range  = ('2016-03-01', '2018-01-12')\n",
    "model_date_range = ('2017-01-12', '2018-01-12')"
   ]
  },
  {
   "cell_type": "code",
   "execution_count": 5,
   "metadata": {},
   "outputs": [
    {
     "name": "stdout",
     "output_type": "stream",
     "text": [
      "reading file =  private/eoddata/NYSE_2013.zip\n",
      "reading file =  private/eoddata/NYSE_2014.zip\n",
      "reading file =  private/eoddata/NYSE_2015.zip\n",
      "reading file =  private/eoddata/NYSE_2016.zip\n",
      "reading file =  private/eoddata/NYSE_2017.zip\n",
      "reading file =  private/eoddata/NYSE_2018.zip\n",
      "ticker            object\n",
      "date      datetime64[ns]\n",
      "open             float64\n",
      "high             float64\n",
      "low              float64\n",
      "close            float64\n",
      "vol                int64\n",
      "dtype: object\n"
     ]
    },
    {
     "data": {
      "text/html": [
       "<div>\n",
       "<style scoped>\n",
       "    .dataframe tbody tr th:only-of-type {\n",
       "        vertical-align: middle;\n",
       "    }\n",
       "\n",
       "    .dataframe tbody tr th {\n",
       "        vertical-align: top;\n",
       "    }\n",
       "\n",
       "    .dataframe thead th {\n",
       "        text-align: right;\n",
       "    }\n",
       "</style>\n",
       "<table border=\"1\" class=\"dataframe\">\n",
       "  <thead>\n",
       "    <tr style=\"text-align: right;\">\n",
       "      <th></th>\n",
       "      <th>ticker</th>\n",
       "      <th>date</th>\n",
       "      <th>open</th>\n",
       "      <th>high</th>\n",
       "      <th>low</th>\n",
       "      <th>close</th>\n",
       "      <th>vol</th>\n",
       "    </tr>\n",
       "  </thead>\n",
       "  <tbody>\n",
       "    <tr>\n",
       "      <th>1729427</th>\n",
       "      <td>A</td>\n",
       "      <td>2015-10-01</td>\n",
       "      <td>34.32</td>\n",
       "      <td>34.48</td>\n",
       "      <td>33.48</td>\n",
       "      <td>33.74</td>\n",
       "      <td>3011400</td>\n",
       "    </tr>\n",
       "    <tr>\n",
       "      <th>1729428</th>\n",
       "      <td>AA</td>\n",
       "      <td>2015-10-01</td>\n",
       "      <td>29.13</td>\n",
       "      <td>29.55</td>\n",
       "      <td>27.57</td>\n",
       "      <td>27.78</td>\n",
       "      <td>36864900</td>\n",
       "    </tr>\n",
       "    <tr>\n",
       "      <th>1729429</th>\n",
       "      <td>AAC</td>\n",
       "      <td>2015-10-01</td>\n",
       "      <td>22.27</td>\n",
       "      <td>22.69</td>\n",
       "      <td>22.11</td>\n",
       "      <td>22.59</td>\n",
       "      <td>197400</td>\n",
       "    </tr>\n",
       "    <tr>\n",
       "      <th>1729430</th>\n",
       "      <td>AAN</td>\n",
       "      <td>2015-10-01</td>\n",
       "      <td>36.25</td>\n",
       "      <td>36.62</td>\n",
       "      <td>35.98</td>\n",
       "      <td>36.32</td>\n",
       "      <td>597500</td>\n",
       "    </tr>\n",
       "    <tr>\n",
       "      <th>1729431</th>\n",
       "      <td>AAP</td>\n",
       "      <td>2015-10-01</td>\n",
       "      <td>190.28</td>\n",
       "      <td>192.64</td>\n",
       "      <td>188.10</td>\n",
       "      <td>192.04</td>\n",
       "      <td>1586900</td>\n",
       "    </tr>\n",
       "  </tbody>\n",
       "</table>\n",
       "</div>"
      ],
      "text/plain": [
       "        ticker       date    open    high     low   close       vol\n",
       "1729427      A 2015-10-01   34.32   34.48   33.48   33.74   3011400\n",
       "1729428     AA 2015-10-01   29.13   29.55   27.57   27.78  36864900\n",
       "1729429    AAC 2015-10-01   22.27   22.69   22.11   22.59    197400\n",
       "1729430    AAN 2015-10-01   36.25   36.62   35.98   36.32    597500\n",
       "1729431    AAP 2015-10-01  190.28  192.64  188.10  192.04   1586900"
      ]
     },
     "execution_count": 5,
     "metadata": {},
     "output_type": "execute_result"
    }
   ],
   "source": [
    "#read NYSE data\n",
    "path = 'private/eoddata/NYSE_*.zip'\n",
    "drop_holidays=True\n",
    "from helper_fns import *\n",
    "market = read_nyse_data(path, start_date=data_date_range[0], end_date=data_date_range[1], drop_holidays=drop_holidays)\n",
    "print market.dtypes\n",
    "market.head()"
   ]
  },
  {
   "cell_type": "code",
   "execution_count": 19,
   "metadata": {},
   "outputs": [
    {
     "data": {
      "text/html": [
       "<div>\n",
       "<style scoped>\n",
       "    .dataframe tbody tr th:only-of-type {\n",
       "        vertical-align: middle;\n",
       "    }\n",
       "\n",
       "    .dataframe tbody tr th {\n",
       "        vertical-align: top;\n",
       "    }\n",
       "\n",
       "    .dataframe thead th {\n",
       "        text-align: right;\n",
       "    }\n",
       "</style>\n",
       "<table border=\"1\" class=\"dataframe\">\n",
       "  <thead>\n",
       "    <tr style=\"text-align: right;\">\n",
       "      <th></th>\n",
       "      <th>ticker</th>\n",
       "      <th>open</th>\n",
       "      <th>high</th>\n",
       "      <th>low</th>\n",
       "      <th>close</th>\n",
       "      <th>vol</th>\n",
       "    </tr>\n",
       "    <tr>\n",
       "      <th>date</th>\n",
       "      <th></th>\n",
       "      <th></th>\n",
       "      <th></th>\n",
       "      <th></th>\n",
       "      <th></th>\n",
       "      <th></th>\n",
       "    </tr>\n",
       "  </thead>\n",
       "  <tbody>\n",
       "    <tr>\n",
       "      <th>2015-10-01</th>\n",
       "      <td>GE</td>\n",
       "      <td>25.15</td>\n",
       "      <td>25.31</td>\n",
       "      <td>24.79</td>\n",
       "      <td>25.19</td>\n",
       "      <td>39723500</td>\n",
       "    </tr>\n",
       "    <tr>\n",
       "      <th>2015-10-02</th>\n",
       "      <td>GE</td>\n",
       "      <td>24.87</td>\n",
       "      <td>25.49</td>\n",
       "      <td>24.83</td>\n",
       "      <td>25.47</td>\n",
       "      <td>42676200</td>\n",
       "    </tr>\n",
       "    <tr>\n",
       "      <th>2015-10-05</th>\n",
       "      <td>GE</td>\n",
       "      <td>26.37</td>\n",
       "      <td>27.20</td>\n",
       "      <td>26.22</td>\n",
       "      <td>26.82</td>\n",
       "      <td>105423300</td>\n",
       "    </tr>\n",
       "    <tr>\n",
       "      <th>2015-10-06</th>\n",
       "      <td>GE</td>\n",
       "      <td>26.99</td>\n",
       "      <td>27.41</td>\n",
       "      <td>26.96</td>\n",
       "      <td>27.29</td>\n",
       "      <td>71909400</td>\n",
       "    </tr>\n",
       "    <tr>\n",
       "      <th>2015-10-07</th>\n",
       "      <td>GE</td>\n",
       "      <td>27.50</td>\n",
       "      <td>27.77</td>\n",
       "      <td>27.32</td>\n",
       "      <td>27.77</td>\n",
       "      <td>65845300</td>\n",
       "    </tr>\n",
       "  </tbody>\n",
       "</table>\n",
       "</div>"
      ],
      "text/plain": [
       "           ticker   open   high    low  close        vol\n",
       "date                                                    \n",
       "2015-10-01     GE  25.15  25.31  24.79  25.19   39723500\n",
       "2015-10-02     GE  24.87  25.49  24.83  25.47   42676200\n",
       "2015-10-05     GE  26.37  27.20  26.22  26.82  105423300\n",
       "2015-10-06     GE  26.99  27.41  26.96  27.29   71909400\n",
       "2015-10-07     GE  27.50  27.77  27.32  27.77   65845300"
      ]
     },
     "execution_count": 19,
     "metadata": {},
     "output_type": "execute_result"
    }
   ],
   "source": [
    "ticker = 'GE'\n",
    "idx = (market['ticker'] == ticker)\n",
    "df = market[idx]\n",
    "df = df.set_index('date', drop=True)\n",
    "df.head()"
   ]
  },
  {
   "cell_type": "code",
   "execution_count": 23,
   "metadata": {},
   "outputs": [],
   "source": [
    "r = df['open'].resample('w').first()"
   ]
  },
  {
   "cell_type": "code",
   "execution_count": 26,
   "metadata": {},
   "outputs": [],
   "source": [
    "#r = df.groupby([pd.TimeGrouper('w'), 'ticker']).first()\n",
    "pd.Grouper?"
   ]
  },
  {
   "cell_type": "code",
   "execution_count": 32,
   "metadata": {},
   "outputs": [
    {
     "data": {
      "text/html": [
       "<div>\n",
       "<style scoped>\n",
       "    .dataframe tbody tr th:only-of-type {\n",
       "        vertical-align: middle;\n",
       "    }\n",
       "\n",
       "    .dataframe tbody tr th {\n",
       "        vertical-align: top;\n",
       "    }\n",
       "\n",
       "    .dataframe thead th {\n",
       "        text-align: right;\n",
       "    }\n",
       "</style>\n",
       "<table border=\"1\" class=\"dataframe\">\n",
       "  <thead>\n",
       "    <tr style=\"text-align: right;\">\n",
       "      <th></th>\n",
       "      <th>ticker</th>\n",
       "      <th>open</th>\n",
       "      <th>high</th>\n",
       "      <th>low</th>\n",
       "      <th>close</th>\n",
       "      <th>vol</th>\n",
       "    </tr>\n",
       "    <tr>\n",
       "      <th>date</th>\n",
       "      <th></th>\n",
       "      <th></th>\n",
       "      <th></th>\n",
       "      <th></th>\n",
       "      <th></th>\n",
       "      <th></th>\n",
       "    </tr>\n",
       "  </thead>\n",
       "  <tbody>\n",
       "    <tr>\n",
       "      <th>2015-10-04</th>\n",
       "      <td>GE</td>\n",
       "      <td>25.15</td>\n",
       "      <td>25.31</td>\n",
       "      <td>24.79</td>\n",
       "      <td>25.19</td>\n",
       "      <td>39723500</td>\n",
       "    </tr>\n",
       "    <tr>\n",
       "      <th>2015-10-11</th>\n",
       "      <td>GE</td>\n",
       "      <td>26.37</td>\n",
       "      <td>27.20</td>\n",
       "      <td>26.22</td>\n",
       "      <td>26.82</td>\n",
       "      <td>105423300</td>\n",
       "    </tr>\n",
       "    <tr>\n",
       "      <th>2015-10-18</th>\n",
       "      <td>GE</td>\n",
       "      <td>27.98</td>\n",
       "      <td>28.17</td>\n",
       "      <td>27.91</td>\n",
       "      <td>28.09</td>\n",
       "      <td>25239600</td>\n",
       "    </tr>\n",
       "    <tr>\n",
       "      <th>2015-10-25</th>\n",
       "      <td>GE</td>\n",
       "      <td>28.80</td>\n",
       "      <td>29.56</td>\n",
       "      <td>28.75</td>\n",
       "      <td>28.99</td>\n",
       "      <td>131036300</td>\n",
       "    </tr>\n",
       "    <tr>\n",
       "      <th>2015-11-01</th>\n",
       "      <td>GE</td>\n",
       "      <td>29.52</td>\n",
       "      <td>29.66</td>\n",
       "      <td>29.41</td>\n",
       "      <td>29.55</td>\n",
       "      <td>48757400</td>\n",
       "    </tr>\n",
       "  </tbody>\n",
       "</table>\n",
       "</div>"
      ],
      "text/plain": [
       "           ticker   open   high    low  close        vol\n",
       "date                                                    \n",
       "2015-10-04     GE  25.15  25.31  24.79  25.19   39723500\n",
       "2015-10-11     GE  26.37  27.20  26.22  26.82  105423300\n",
       "2015-10-18     GE  27.98  28.17  27.91  28.09   25239600\n",
       "2015-10-25     GE  28.80  29.56  28.75  28.99  131036300\n",
       "2015-11-01     GE  29.52  29.66  29.41  29.55   48757400"
      ]
     },
     "execution_count": 32,
     "metadata": {},
     "output_type": "execute_result"
    }
   ],
   "source": [
    "#r = df.groupby(pd.Grouper(key='ticker', freq='w'))\n",
    "r = df.groupby(pd.Grouper(level='date', freq='w')).first()\n",
    "r.head()"
   ]
  },
  {
   "cell_type": "code",
   "execution_count": 30,
   "metadata": {},
   "outputs": [
    {
     "data": {
      "text/plain": [
       "<pandas.core.groupby.DataFrameGroupBy object at 0x1a0a4d8c90>"
      ]
     },
     "execution_count": 30,
     "metadata": {},
     "output_type": "execute_result"
    }
   ],
   "source": []
  },
  {
   "cell_type": "code",
   "execution_count": 7,
   "metadata": {},
   "outputs": [
    {
     "data": {
      "text/plain": [
       "date\n",
       "2015-10-01    3590656500\n",
       "2015-10-02    3961370900\n",
       "2015-10-05    3841454200\n",
       "2015-10-06    3776969500\n",
       "2015-10-07    4162598800\n",
       "2015-10-08    3432836300\n",
       "2015-10-09    3332670600\n",
       "2015-10-12    2512890600\n",
       "2015-10-13    3037652600\n",
       "2015-10-14    3306149600\n",
       "Name: vol, dtype: int64"
      ]
     },
     "execution_count": 7,
     "metadata": {},
     "output_type": "execute_result"
    }
   ],
   "source": [
    "#compute volume of shares traded each day\n",
    "daily_volume = market.groupby('date')['vol'].sum()\n",
    "daily_volume.head(10)"
   ]
  },
  {
   "cell_type": "code",
   "execution_count": null,
   "metadata": {},
   "outputs": [],
   "source": [
    "#plot daily volume vs date\n",
    "fig, ax = plt.subplots(figsize=(16, 6))\n",
    "xp = daily_volume.index\n",
    "yp = daily_volume.values/1.0e9\n",
    "p = ax.plot(xp, yp, linestyle='-')\n",
    "ax.set_title('NYSE daily share volume')\n",
    "ax.set_xlabel('date')\n",
    "ax.set_ylabel('shares traded    (G)')\n",
    "ax.set_ylim(0, 8)\n",
    "ax.set_xlim(plot_date_range)\n",
    "plt.savefig('figs/volume.png')"
   ]
  },
  {
   "cell_type": "code",
   "execution_count": null,
   "metadata": {},
   "outputs": [],
   "source": [
    "#compute volume-weighted share price versus date\n",
    "def volume_weighted_share_price(record):\n",
    "    vwsp = None\n",
    "    cv = record['close']*record['vol']\n",
    "    v_total = record['vol'].sum()\n",
    "    if (v_total > 0.0):\n",
    "        vwsp = cv.sum()/v_total\n",
    "    return vwsp\n",
    "vwsp = market.groupby('date').apply(volume_weighted_share_price)"
   ]
  },
  {
   "cell_type": "code",
   "execution_count": null,
   "metadata": {},
   "outputs": [],
   "source": [
    "#plot volume-weighted share price vs date\n",
    "fig, ax = plt.subplots(figsize=(16, 6))\n",
    "xp = vwsp.index\n",
    "yp = vwsp.values\n",
    "p = ax.plot(xp, yp, linestyle='-')\n",
    "ax.set_title('NYSE volume-weighted mean share price')\n",
    "ax.set_xlabel('date')\n",
    "ax.set_ylabel('volume-weighted share price')\n",
    "ax.set_ylim(31, 45)\n",
    "ax.set_xlim(plot_date_range)\n",
    "plt.savefig('figs/vwsp.png')"
   ]
  },
  {
   "cell_type": "code",
   "execution_count": null,
   "metadata": {},
   "outputs": [],
   "source": [
    "#plot fractional volume-weighted gain vs date\n",
    "fig, ax = plt.subplots(figsize=(16, 6))\n",
    "xp = vwsp.index\n",
    "yp = vwsp.values\n",
    "yp = (yp - yp[0])/yp[0]\n",
    "p = ax.plot(xp, yp, linestyle='-')\n",
    "p = ax.set_title('fractional change in NYSE volume-weighted mean share price')\n",
    "p = ax.set_xlabel('date')\n",
    "p = ax.set_ylabel('fractional gain')\n",
    "p = ax.set_xlim(plot_date_range)\n",
    "plt.savefig('figs/fractional_vwsp.png')"
   ]
  },
  {
   "cell_type": "code",
   "execution_count": null,
   "metadata": {},
   "outputs": [],
   "source": [
    "#simulate mean outcome for 25 people, each trading $10K worth of randomly selected tickers daily\n",
    "N_buyers = 25\n",
    "N_tickers = 5\n",
    "initial_dollars = 10000.0\n",
    "idx = (market['date'] >= model_date_range[0]) & (market['date'] <= model_date_range[1])\n",
    "market_data = market[idx]\n",
    "ran_purchases = random_purchases(market_data, N_buyers, N_tickers, initial_dollars)"
   ]
  },
  {
   "cell_type": "code",
   "execution_count": null,
   "metadata": {},
   "outputs": [],
   "source": [
    "#plot mean fractional gain exhibited by random purchasers\n",
    "fig, ax = plt.subplots(figsize=(16, 6))\n",
    "xp = ran_purchases.index.values\n",
    "yp = ran_purchases['dollars_mean'].values\n",
    "err = ran_purchases['dollars_std'].values/yp[0]\n",
    "yp = (yp -yp[0])/yp[0]\n",
    "p = ax.plot(xp, yp, linestyle='-')\n",
    "p = ax.errorbar(xp, yp, err, linestyle='none', alpha=0.5)\n",
    "ax.set_title('simulated outcome for daily random purchases')\n",
    "ax.set_xlabel('date')\n",
    "ax.set_ylabel('fractional gain')\n",
    "ax.set_xlim(model_date_range)\n",
    "plt.savefig('figs/random_purchases.png')"
   ]
  },
  {
   "cell_type": "code",
   "execution_count": null,
   "metadata": {},
   "outputs": [],
   "source": []
  }
 ],
 "metadata": {
  "hide_input": false,
  "kernelspec": {
   "display_name": "Python 2",
   "language": "python",
   "name": "python2"
  },
  "language_info": {
   "codemirror_mode": {
    "name": "ipython",
    "version": 2
   },
   "file_extension": ".py",
   "mimetype": "text/x-python",
   "name": "python",
   "nbconvert_exporter": "python",
   "pygments_lexer": "ipython2",
   "version": "2.7.14"
  }
 },
 "nbformat": 4,
 "nbformat_minor": 2
}
