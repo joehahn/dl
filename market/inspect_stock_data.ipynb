{
 "cells": [
  {
   "cell_type": "code",
   "execution_count": 1,
   "metadata": {},
   "outputs": [],
   "source": [
    "#inspect_stock_data.ipynb\n",
    "#\n",
    "#by Joe Hahn\n",
    "#jmh.datasciences@gmail.com\n",
    "#23 January 2018\n",
    "#\n",
    "#this reads some NYSE data and makes some charts"
   ]
  },
  {
   "cell_type": "code",
   "execution_count": 2,
   "metadata": {},
   "outputs": [],
   "source": [
    "#prep matplotlib\n",
    "%matplotlib inline\n",
    "import seaborn as sns\n",
    "import matplotlib.pyplot as plt\n",
    "sns.set(font_scale=1.5)"
   ]
  },
  {
   "cell_type": "code",
   "execution_count": 3,
   "metadata": {},
   "outputs": [],
   "source": [
    "#import numpy and pandas\n",
    "import numpy as np\n",
    "import pandas as pd\n",
    "pd.set_option('display.max_columns', None)"
   ]
  },
  {
   "cell_type": "code",
   "execution_count": 4,
   "metadata": {},
   "outputs": [],
   "source": [
    "#select date ranges, for plotting and for models\n",
    "plot_date_range  = ('2016-02-01', '2016-10-01')\n",
    "model_date_range = ('2017-01-12', '2018-01-12')"
   ]
  },
  {
   "cell_type": "code",
   "execution_count": 5,
   "metadata": {
    "scrolled": false
   },
   "outputs": [
    {
     "name": "stdout",
     "output_type": "stream",
     "text": [
      "reading file =  private/eoddata/NYSE_2016.zip\n",
      "number of records (M) =  6.90316\n",
      "number of tickers =  2923\n",
      "number of dates =  246\n",
      "ticker            object\n",
      "date      datetime64[ns]\n",
      "open             float64\n",
      "high             float64\n",
      "low              float64\n",
      "close            float64\n",
      "vol                int64\n",
      "dtype: object\n"
     ]
    },
    {
     "data": {
      "text/html": [
       "<div>\n",
       "<style scoped>\n",
       "    .dataframe tbody tr th:only-of-type {\n",
       "        vertical-align: middle;\n",
       "    }\n",
       "\n",
       "    .dataframe tbody tr th {\n",
       "        vertical-align: top;\n",
       "    }\n",
       "\n",
       "    .dataframe thead th {\n",
       "        text-align: right;\n",
       "    }\n",
       "</style>\n",
       "<table border=\"1\" class=\"dataframe\">\n",
       "  <thead>\n",
       "    <tr style=\"text-align: right;\">\n",
       "      <th></th>\n",
       "      <th>ticker</th>\n",
       "      <th>date</th>\n",
       "      <th>open</th>\n",
       "      <th>high</th>\n",
       "      <th>low</th>\n",
       "      <th>close</th>\n",
       "      <th>vol</th>\n",
       "    </tr>\n",
       "  </thead>\n",
       "  <tbody>\n",
       "    <tr>\n",
       "      <th>0</th>\n",
       "      <td>A</td>\n",
       "      <td>2016-01-11</td>\n",
       "      <td>38.71</td>\n",
       "      <td>38.90</td>\n",
       "      <td>37.41</td>\n",
       "      <td>37.94</td>\n",
       "      <td>2818600</td>\n",
       "    </tr>\n",
       "    <tr>\n",
       "      <th>1</th>\n",
       "      <td>AA</td>\n",
       "      <td>2016-01-11</td>\n",
       "      <td>24.87</td>\n",
       "      <td>24.87</td>\n",
       "      <td>23.70</td>\n",
       "      <td>24.00</td>\n",
       "      <td>47942400</td>\n",
       "    </tr>\n",
       "    <tr>\n",
       "      <th>2</th>\n",
       "      <td>AAC</td>\n",
       "      <td>2016-01-11</td>\n",
       "      <td>18.25</td>\n",
       "      <td>18.36</td>\n",
       "      <td>17.21</td>\n",
       "      <td>17.46</td>\n",
       "      <td>98500</td>\n",
       "    </tr>\n",
       "    <tr>\n",
       "      <th>3</th>\n",
       "      <td>AAN</td>\n",
       "      <td>2016-01-11</td>\n",
       "      <td>20.40</td>\n",
       "      <td>20.69</td>\n",
       "      <td>20.34</td>\n",
       "      <td>20.55</td>\n",
       "      <td>653200</td>\n",
       "    </tr>\n",
       "    <tr>\n",
       "      <th>4</th>\n",
       "      <td>AAP</td>\n",
       "      <td>2016-01-11</td>\n",
       "      <td>146.13</td>\n",
       "      <td>148.12</td>\n",
       "      <td>145.06</td>\n",
       "      <td>147.05</td>\n",
       "      <td>1114300</td>\n",
       "    </tr>\n",
       "    <tr>\n",
       "      <th>5</th>\n",
       "      <td>AAT</td>\n",
       "      <td>2016-01-11</td>\n",
       "      <td>37.70</td>\n",
       "      <td>38.05</td>\n",
       "      <td>37.55</td>\n",
       "      <td>37.81</td>\n",
       "      <td>142900</td>\n",
       "    </tr>\n",
       "  </tbody>\n",
       "</table>\n",
       "</div>"
      ],
      "text/plain": [
       "  ticker       date    open    high     low   close       vol\n",
       "0      A 2016-01-11   38.71   38.90   37.41   37.94   2818600\n",
       "1     AA 2016-01-11   24.87   24.87   23.70   24.00  47942400\n",
       "2    AAC 2016-01-11   18.25   18.36   17.21   17.46     98500\n",
       "3    AAN 2016-01-11   20.40   20.69   20.34   20.55    653200\n",
       "4    AAP 2016-01-11  146.13  148.12  145.06  147.05   1114300\n",
       "5    AAT 2016-01-11   37.70   38.05   37.55   37.81    142900"
      ]
     },
     "execution_count": 5,
     "metadata": {},
     "output_type": "execute_result"
    }
   ],
   "source": [
    "#read NYSE data\n",
    "path = 'private/eoddata/NYSE_*.zip'\n",
    "path = 'private/eoddata/NYSE_2016.zip'\n",
    "data_date_range  = ('2016-01-10', '2017-01-01')\n",
    "drop_holidays = True\n",
    "from helper_fns import *\n",
    "market = read_market_data(path, start_date=data_date_range[0], end_date=data_date_range[1],\n",
    "    drop_holidays=drop_holidays)\n",
    "print 'number of records (M) = ', len(market)/1.0e5\n",
    "print 'number of tickers = ', len(market.ticker.unique())\n",
    "print 'number of dates = ', len(market.date.unique())\n",
    "print market.dtypes\n",
    "market.head(6)"
   ]
  },
  {
   "cell_type": "code",
   "execution_count": 6,
   "metadata": {},
   "outputs": [
    {
     "data": {
      "text/plain": [
       "ticker\n",
       "BAC     1.160481\n",
       "BABA    2.034284\n",
       "WFC     2.812188\n",
       "JPM     3.580230\n",
       "GE      4.313617\n",
       "Name: dollar_rate, dtype: float64"
      ]
     },
     "execution_count": 6,
     "metadata": {},
     "output_type": "execute_result"
    }
   ],
   "source": [
    "#compute cumulative-sum of dollar-volume traded each day\n",
    "N_days = (market.date.max() - market.date.min()).days\n",
    "market['dollar_rate'] = market['open']*market['vol']/N_days\n",
    "giga_dollars_per_day_cs = market.groupby('ticker')['dollar_rate'].sum().sort_values(ascending=False).cumsum()/1.0e9\n",
    "giga_dollars_per_day_cs.head(5)"
   ]
  },
  {
   "cell_type": "code",
   "execution_count": 7,
   "metadata": {},
   "outputs": [
    {
     "data": {
      "image/png": "[encoded data removed]",
      "text/plain": [
       "<Figure size 1152x432 with 1 Axes>"
      ]
     },
     "metadata": {},
     "output_type": "display_data"
    }
   ],
   "source": [
    "#plot giga_dollars_per_day_cs versus ticker\n",
    "yp = giga_dollars_per_day_cs\n",
    "xp = range(len(yp))\n",
    "fig, ax = plt.subplots(figsize=(16, 6))\n",
    "p = ax.plot(xp, yp, linestyle='-')\n",
    "p = ax.set_title('NYSE dollar volume traded daily')\n",
    "p = ax.set_xlabel('ticker')\n",
    "p = ax.set_ylabel('dollar volume    (G$/day)')\n",
    "#plt.savefig('figs/volume.png')"
   ]
  },
  {
   "cell_type": "code",
   "execution_count": 8,
   "metadata": {},
   "outputs": [
    {
     "name": "stdout",
     "output_type": "stream",
     "text": [
      "['BAC', 'BABA', 'WFC', 'JPM', 'GE']\n"
     ]
    }
   ],
   "source": [
    "#get top 50 tickers by traded dollar value\n",
    "N_tickers = 5#0#0\n",
    "tickers = giga_dollars_per_day_cs.index[0:N_tickers].values.tolist()\n",
    "print tickers"
   ]
  },
  {
   "cell_type": "code",
   "execution_count": 9,
   "metadata": {},
   "outputs": [
    {
     "name": "stdout",
     "output_type": "stream",
     "text": [
      "market_resampled.shape =  (50, 20)\n",
      "market_resampled.columns =  Index([u'close_BABA', u'close_BAC', u'close_GE', u'close_JPM', u'close_WFC',\n",
      "       u'G$vol_BABA', u'G$vol_BAC', u'G$vol_GE', u'G$vol_JPM', u'G$vol_WFC',\n",
      "       u'std_BABA', u'std_BAC', u'std_GE', u'std_JPM', u'std_WFC',\n",
      "       u'delta_BABA', u'delta_BAC', u'delta_GE', u'delta_JPM', u'delta_WFC'],\n",
      "      dtype='object')\n"
     ]
    },
    {
     "data": {
      "text/html": [
       "<div>\n",
       "<style scoped>\n",
       "    .dataframe tbody tr th:only-of-type {\n",
       "        vertical-align: middle;\n",
       "    }\n",
       "\n",
       "    .dataframe tbody tr th {\n",
       "        vertical-align: top;\n",
       "    }\n",
       "\n",
       "    .dataframe thead th {\n",
       "        text-align: right;\n",
       "    }\n",
       "</style>\n",
       "<table border=\"1\" class=\"dataframe\">\n",
       "  <thead>\n",
       "    <tr style=\"text-align: right;\">\n",
       "      <th></th>\n",
       "      <th>close_BABA</th>\n",
       "      <th>close_BAC</th>\n",
       "      <th>close_GE</th>\n",
       "      <th>close_JPM</th>\n",
       "      <th>close_WFC</th>\n",
       "      <th>G$vol_BABA</th>\n",
       "      <th>G$vol_BAC</th>\n",
       "      <th>G$vol_GE</th>\n",
       "      <th>G$vol_JPM</th>\n",
       "      <th>G$vol_WFC</th>\n",
       "      <th>std_BABA</th>\n",
       "      <th>std_BAC</th>\n",
       "      <th>std_GE</th>\n",
       "      <th>std_JPM</th>\n",
       "      <th>std_WFC</th>\n",
       "      <th>delta_BABA</th>\n",
       "      <th>delta_BAC</th>\n",
       "      <th>delta_GE</th>\n",
       "      <th>delta_JPM</th>\n",
       "      <th>delta_WFC</th>\n",
       "    </tr>\n",
       "    <tr>\n",
       "      <th>date</th>\n",
       "      <th></th>\n",
       "      <th></th>\n",
       "      <th></th>\n",
       "      <th></th>\n",
       "      <th></th>\n",
       "      <th></th>\n",
       "      <th></th>\n",
       "      <th></th>\n",
       "      <th></th>\n",
       "      <th></th>\n",
       "      <th></th>\n",
       "      <th></th>\n",
       "      <th></th>\n",
       "      <th></th>\n",
       "      <th></th>\n",
       "      <th></th>\n",
       "      <th></th>\n",
       "      <th></th>\n",
       "      <th></th>\n",
       "      <th></th>\n",
       "    </tr>\n",
       "  </thead>\n",
       "  <tbody>\n",
       "    <tr>\n",
       "      <th>2016-01-19</th>\n",
       "      <td>69.59</td>\n",
       "      <td>14.46</td>\n",
       "      <td>28.49</td>\n",
       "      <td>57.04</td>\n",
       "      <td>48.82</td>\n",
       "      <td>5.747926</td>\n",
       "      <td>9.370900</td>\n",
       "      <td>8.450310</td>\n",
       "      <td>8.282360</td>\n",
       "      <td>6.795101</td>\n",
       "      <td>0.021231</td>\n",
       "      <td>0.029906</td>\n",
       "      <td>0.011051</td>\n",
       "      <td>0.021242</td>\n",
       "      <td>0.023086</td>\n",
       "      <td>-0.023846</td>\n",
       "      <td>-0.052425</td>\n",
       "      <td>-0.001752</td>\n",
       "      <td>-0.030427</td>\n",
       "      <td>-0.027102</td>\n",
       "    </tr>\n",
       "    <tr>\n",
       "      <th>2016-01-25</th>\n",
       "      <td>70.37</td>\n",
       "      <td>13.56</td>\n",
       "      <td>28.24</td>\n",
       "      <td>56.95</td>\n",
       "      <td>49.02</td>\n",
       "      <td>4.865765</td>\n",
       "      <td>11.087047</td>\n",
       "      <td>8.037661</td>\n",
       "      <td>6.272410</td>\n",
       "      <td>5.439083</td>\n",
       "      <td>0.031120</td>\n",
       "      <td>0.033846</td>\n",
       "      <td>0.012722</td>\n",
       "      <td>0.016729</td>\n",
       "      <td>0.018575</td>\n",
       "      <td>-0.021824</td>\n",
       "      <td>-0.076923</td>\n",
       "      <td>-0.016713</td>\n",
       "      <td>-0.013511</td>\n",
       "      <td>-0.004670</td>\n",
       "    </tr>\n",
       "    <tr>\n",
       "      <th>2016-02-01</th>\n",
       "      <td>67.03</td>\n",
       "      <td>14.14</td>\n",
       "      <td>29.10</td>\n",
       "      <td>59.50</td>\n",
       "      <td>50.23</td>\n",
       "      <td>7.261738</td>\n",
       "      <td>9.479906</td>\n",
       "      <td>6.360318</td>\n",
       "      <td>5.797856</td>\n",
       "      <td>5.332100</td>\n",
       "      <td>0.024653</td>\n",
       "      <td>0.019241</td>\n",
       "      <td>0.005139</td>\n",
       "      <td>0.014129</td>\n",
       "      <td>0.012972</td>\n",
       "      <td>-0.053249</td>\n",
       "      <td>0.044313</td>\n",
       "      <td>0.027542</td>\n",
       "      <td>0.053470</td>\n",
       "      <td>0.026988</td>\n",
       "    </tr>\n",
       "    <tr>\n",
       "      <th>2016-02-08</th>\n",
       "      <td>62.64</td>\n",
       "      <td>12.95</td>\n",
       "      <td>28.54</td>\n",
       "      <td>57.75</td>\n",
       "      <td>47.86</td>\n",
       "      <td>6.761087</td>\n",
       "      <td>10.917212</td>\n",
       "      <td>6.712196</td>\n",
       "      <td>6.627533</td>\n",
       "      <td>7.026365</td>\n",
       "      <td>0.017326</td>\n",
       "      <td>0.031896</td>\n",
       "      <td>0.013148</td>\n",
       "      <td>0.014581</td>\n",
       "      <td>0.020454</td>\n",
       "      <td>-0.058045</td>\n",
       "      <td>-0.078292</td>\n",
       "      <td>-0.016201</td>\n",
       "      <td>-0.023834</td>\n",
       "      <td>-0.045092</td>\n",
       "    </tr>\n",
       "    <tr>\n",
       "      <th>2016-02-16</th>\n",
       "      <td>60.89</td>\n",
       "      <td>11.95</td>\n",
       "      <td>28.26</td>\n",
       "      <td>57.49</td>\n",
       "      <td>47.31</td>\n",
       "      <td>4.048509</td>\n",
       "      <td>15.711884</td>\n",
       "      <td>7.131266</td>\n",
       "      <td>8.772505</td>\n",
       "      <td>6.539135</td>\n",
       "      <td>0.012129</td>\n",
       "      <td>0.043001</td>\n",
       "      <td>0.012174</td>\n",
       "      <td>0.019949</td>\n",
       "      <td>0.019155</td>\n",
       "      <td>-0.000164</td>\n",
       "      <td>-0.056827</td>\n",
       "      <td>0.001417</td>\n",
       "      <td>0.014112</td>\n",
       "      <td>0.004245</td>\n",
       "    </tr>\n",
       "  </tbody>\n",
       "</table>\n",
       "</div>"
      ],
      "text/plain": [
       "            close_BABA  close_BAC  close_GE  close_JPM  close_WFC  G$vol_BABA  \\\n",
       "date                                                                            \n",
       "2016-01-19       69.59      14.46     28.49      57.04      48.82    5.747926   \n",
       "2016-01-25       70.37      13.56     28.24      56.95      49.02    4.865765   \n",
       "2016-02-01       67.03      14.14     29.10      59.50      50.23    7.261738   \n",
       "2016-02-08       62.64      12.95     28.54      57.75      47.86    6.761087   \n",
       "2016-02-16       60.89      11.95     28.26      57.49      47.31    4.048509   \n",
       "\n",
       "            G$vol_BAC  G$vol_GE  G$vol_JPM  G$vol_WFC  std_BABA   std_BAC  \\\n",
       "date                                                                        \n",
       "2016-01-19   9.370900  8.450310   8.282360   6.795101  0.021231  0.029906   \n",
       "2016-01-25  11.087047  8.037661   6.272410   5.439083  0.031120  0.033846   \n",
       "2016-02-01   9.479906  6.360318   5.797856   5.332100  0.024653  0.019241   \n",
       "2016-02-08  10.917212  6.712196   6.627533   7.026365  0.017326  0.031896   \n",
       "2016-02-16  15.711884  7.131266   8.772505   6.539135  0.012129  0.043001   \n",
       "\n",
       "              std_GE   std_JPM   std_WFC  delta_BABA  delta_BAC  delta_GE  \\\n",
       "date                                                                        \n",
       "2016-01-19  0.011051  0.021242  0.023086   -0.023846  -0.052425 -0.001752   \n",
       "2016-01-25  0.012722  0.016729  0.018575   -0.021824  -0.076923 -0.016713   \n",
       "2016-02-01  0.005139  0.014129  0.012972   -0.053249   0.044313  0.027542   \n",
       "2016-02-08  0.013148  0.014581  0.020454   -0.058045  -0.078292 -0.016201   \n",
       "2016-02-16  0.012174  0.019949  0.019155   -0.000164  -0.056827  0.001417   \n",
       "\n",
       "            delta_JPM  delta_WFC  \n",
       "date                              \n",
       "2016-01-19  -0.030427  -0.027102  \n",
       "2016-01-25  -0.013511  -0.004670  \n",
       "2016-02-01   0.053470   0.026988  \n",
       "2016-02-08  -0.023834  -0.045092  \n",
       "2016-02-16   0.014112   0.004245  "
      ]
     },
     "execution_count": 9,
     "metadata": {},
     "output_type": "execute_result"
    }
   ],
   "source": [
    "#resample across 1-week time-bins, pivot data, and lag 'close' column by 1 week\n",
    "freq = 'w'\n",
    "market_resampled, dfr = resample_data(market, freq, tickers=tickers)\n",
    "print 'market_resampled.shape = ', market_resampled.shape\n",
    "print 'market_resampled.columns = ', market_resampled.columns\n",
    "market_resampled.head()\n",
    "#dfr.head()\n",
    "#dfr.tail()"
   ]
  },
  {
   "cell_type": "code",
   "execution_count": null,
   "metadata": {},
   "outputs": [],
   "source": [
    "#get x=model features and y=target variables\n",
    "cols = ['close', 'G$vol', 'std']\n",
    "df = pd.DataFrame\n",
    "for col in cols:\n",
    "    x = x.append(market_resampled[col], axis=0)"
   ]
  },
  {
   "cell_type": "code",
   "execution_count": null,
   "metadata": {},
   "outputs": [],
   "source": [
    "df = market_resampled\n",
    "cols = [col[0]+'_'+col[1] for col in market_resampled.columns.tolist()]\n",
    "df.columns = cols\n",
    "df.head()"
   ]
  },
  {
   "cell_type": "code",
   "execution_count": null,
   "metadata": {},
   "outputs": [],
   "source": [
    "ticker = 'GE'\n",
    "df = market_resampled\n",
    "idx = (df['ticker'] == ticker)\n",
    "df = df[idx]\n",
    "df.head()"
   ]
  },
  {
   "cell_type": "code",
   "execution_count": null,
   "metadata": {
    "scrolled": false
   },
   "outputs": [],
   "source": [
    "ticker = 'GE'\n",
    "df = market\n",
    "idx = (df['ticker'] == ticker)\n",
    "df = df[idx].set_index('date')\n",
    "fig, ax = plt.subplots(1,1, figsize=(15, 6))\n",
    "yp = df['open']\n",
    "ax.plot(yp, marker='o', markersize=3, linestyle='-', label='open')\n",
    "yp = df['close']\n",
    "ax.plot(yp, marker='o', markersize=3, linestyle='-', label='close')\n",
    "df = market_resampled\n",
    "idx = (df['ticker'] == ticker)\n",
    "df = df[idx].set_index('date')\n",
    "yp = df['open']\n",
    "xp = yp.index\n",
    "err = df['std']\n",
    "ax.errorbar(xp, yp, yerr=err, marker='o', markersize=9, linestyle='-.', alpha=0.6, label='weekly avg')\n",
    "df = df.set_index('date_lagged')\n",
    "yp = df['open']\n",
    "xp = yp.index\n",
    "ax.plot(yp, marker='o', markersize=9, linestyle='-.', label='open/lagged')\n",
    "ax.set_title('ticker = ' + ticker)\n",
    "ax.set_ylabel('share price')\n",
    "ax.set_xlabel('date')\n",
    "ax.set_xlim(plot_date_range)\n",
    "ax.legend()\n",
    "#plt.savefig('figs/field_parameters.png')"
   ]
  },
  {
   "cell_type": "code",
   "execution_count": null,
   "metadata": {},
   "outputs": [],
   "source": [
    "market_resampled.head()"
   ]
  },
  {
   "cell_type": "code",
   "execution_count": null,
   "metadata": {},
   "outputs": [],
   "source": []
  },
  {
   "cell_type": "code",
   "execution_count": null,
   "metadata": {},
   "outputs": [],
   "source": []
  },
  {
   "cell_type": "code",
   "execution_count": null,
   "metadata": {},
   "outputs": [],
   "source": [
    "#compute volume of shares traded each day\n",
    "daily_volume = market.groupby('date')['vol'].sum()\n",
    "daily_volume.head(10)"
   ]
  },
  {
   "cell_type": "code",
   "execution_count": null,
   "metadata": {},
   "outputs": [],
   "source": [
    "#plot daily volume vs date\n",
    "fig, ax = plt.subplots(figsize=(16, 6))\n",
    "xp = daily_volume.index\n",
    "yp = daily_volume.values/1.0e9\n",
    "p = ax.plot(xp, yp, linestyle='-')\n",
    "ax.set_title('NYSE daily share volume')\n",
    "ax.set_xlabel('date')\n",
    "ax.set_ylabel('shares traded    (G)')\n",
    "ax.set_ylim(0, 8)\n",
    "ax.set_xlim(plot_date_range)\n",
    "plt.savefig('figs/volume.png')"
   ]
  },
  {
   "cell_type": "code",
   "execution_count": null,
   "metadata": {},
   "outputs": [],
   "source": [
    "#compute volume-weighted share price versus date\n",
    "def volume_weighted_share_price(record):\n",
    "    vwsp = None\n",
    "    cv = record['close']*record['vol']\n",
    "    v_total = record['vol'].sum()\n",
    "    if (v_total > 0.0):\n",
    "        vwsp = cv.sum()/v_total\n",
    "    return vwsp\n",
    "vwsp = market.groupby('date').apply(volume_weighted_share_price)"
   ]
  },
  {
   "cell_type": "code",
   "execution_count": null,
   "metadata": {},
   "outputs": [],
   "source": [
    "#plot volume-weighted share price vs date\n",
    "fig, ax = plt.subplots(figsize=(16, 6))\n",
    "xp = vwsp.index\n",
    "yp = vwsp.values\n",
    "p = ax.plot(xp, yp, linestyle='-')\n",
    "ax.set_title('NYSE volume-weighted mean share price')\n",
    "ax.set_xlabel('date')\n",
    "ax.set_ylabel('volume-weighted share price')\n",
    "ax.set_ylim(31, 45)\n",
    "ax.set_xlim(plot_date_range)\n",
    "plt.savefig('figs/vwsp.png')"
   ]
  },
  {
   "cell_type": "code",
   "execution_count": null,
   "metadata": {},
   "outputs": [],
   "source": [
    "#plot fractional volume-weighted gain vs date\n",
    "fig, ax = plt.subplots(figsize=(16, 6))\n",
    "xp = vwsp.index\n",
    "yp = vwsp.values\n",
    "yp = (yp - yp[0])/yp[0]\n",
    "p = ax.plot(xp, yp, linestyle='-')\n",
    "p = ax.set_title('fractional change in NYSE volume-weighted mean share price')\n",
    "p = ax.set_xlabel('date')\n",
    "p = ax.set_ylabel('fractional gain')\n",
    "p = ax.set_xlim(plot_date_range)\n",
    "plt.savefig('figs/fractional_vwsp.png')"
   ]
  },
  {
   "cell_type": "code",
   "execution_count": null,
   "metadata": {},
   "outputs": [],
   "source": [
    "#simulate mean outcome for 25 people, each trading $10K worth of randomly selected tickers daily\n",
    "N_buyers = 25\n",
    "N_tickers = 5\n",
    "initial_dollars = 10000.0\n",
    "idx = (market['date'] >= model_date_range[0]) & (market['date'] <= model_date_range[1])\n",
    "market_data = market[idx]\n",
    "ran_purchases = random_purchases(market_data, N_buyers, N_tickers, initial_dollars)"
   ]
  },
  {
   "cell_type": "code",
   "execution_count": null,
   "metadata": {},
   "outputs": [],
   "source": [
    "#plot mean fractional gain exhibited by random purchasers\n",
    "fig, ax = plt.subplots(figsize=(16, 6))\n",
    "xp = ran_purchases.index.values\n",
    "yp = ran_purchases['dollars_mean'].values\n",
    "err = ran_purchases['dollars_std'].values/yp[0]\n",
    "yp = (yp -yp[0])/yp[0]\n",
    "p = ax.plot(xp, yp, linestyle='-')\n",
    "p = ax.errorbar(xp, yp, err, linestyle='none', alpha=0.5)\n",
    "ax.set_title('simulated outcome for daily random purchases')\n",
    "ax.set_xlabel('date')\n",
    "ax.set_ylabel('fractional gain')\n",
    "ax.set_xlim(model_date_range)\n",
    "plt.savefig('figs/random_purchases.png')"
   ]
  },
  {
   "cell_type": "code",
   "execution_count": null,
   "metadata": {},
   "outputs": [],
   "source": []
  }
 ],
 "metadata": {
  "hide_input": false,
  "kernelspec": {
   "display_name": "Python 2",
   "language": "python",
   "name": "python2"
  },
  "language_info": {
   "codemirror_mode": {
    "name": "ipython",
    "version": 2
   },
   "file_extension": ".py",
   "mimetype": "text/x-python",
   "name": "python",
   "nbconvert_exporter": "python",
   "pygments_lexer": "ipython2",
   "version": "2.7.14"
  }
 },
 "nbformat": 4,
 "nbformat_minor": 2
}
