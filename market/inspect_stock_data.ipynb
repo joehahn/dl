{
 "cells": [
  {
   "cell_type": "code",
   "execution_count": 1,
   "metadata": {},
   "outputs": [],
   "source": [
    "#inspect_stock_data.ipynb\n",
    "#\n",
    "#by Joe Hahn\n",
    "#jmh.datasciences@gmail.com\n",
    "#23 January 2018\n",
    "#\n",
    "#this reads some NYSE data and makes some charts"
   ]
  },
  {
   "cell_type": "code",
   "execution_count": 2,
   "metadata": {},
   "outputs": [],
   "source": [
    "#prep matplotlib\n",
    "%matplotlib inline\n",
    "import seaborn as sns\n",
    "import matplotlib.pyplot as plt\n",
    "sns.set(font_scale=1.5)"
   ]
  },
  {
   "cell_type": "code",
   "execution_count": 3,
   "metadata": {},
   "outputs": [],
   "source": [
    "#import numpy and pandas\n",
    "import numpy as np\n",
    "import pandas as pd\n",
    "pd.set_option('display.max_columns', None)"
   ]
  },
  {
   "cell_type": "code",
   "execution_count": 109,
   "metadata": {},
   "outputs": [],
   "source": [
    "#select date ranges, for plotting and for models\n",
    "data_date_range  = ('2015-10-01', '2017-03-01')\n",
    "plot_date_range  = ('2016-02-01', '2016-10-01')\n",
    "model_date_range = ('2017-01-12', '2018-01-12')"
   ]
  },
  {
   "cell_type": "code",
   "execution_count": 5,
   "metadata": {},
   "outputs": [
    {
     "name": "stdout",
     "output_type": "stream",
     "text": [
      "reading file =  private/eoddata/NYSE_2013.zip\n",
      "reading file =  private/eoddata/NYSE_2014.zip\n",
      "reading file =  private/eoddata/NYSE_2015.zip\n",
      "reading file =  private/eoddata/NYSE_2016.zip\n",
      "reading file =  private/eoddata/NYSE_2017.zip\n",
      "reading file =  private/eoddata/NYSE_2018.zip\n",
      "ticker            object\n",
      "date      datetime64[ns]\n",
      "open             float64\n",
      "high             float64\n",
      "low              float64\n",
      "close            float64\n",
      "vol                int64\n",
      "dtype: object\n"
     ]
    },
    {
     "data": {
      "text/html": [
       "<div>\n",
       "<style scoped>\n",
       "    .dataframe tbody tr th:only-of-type {\n",
       "        vertical-align: middle;\n",
       "    }\n",
       "\n",
       "    .dataframe tbody tr th {\n",
       "        vertical-align: top;\n",
       "    }\n",
       "\n",
       "    .dataframe thead th {\n",
       "        text-align: right;\n",
       "    }\n",
       "</style>\n",
       "<table border=\"1\" class=\"dataframe\">\n",
       "  <thead>\n",
       "    <tr style=\"text-align: right;\">\n",
       "      <th></th>\n",
       "      <th>ticker</th>\n",
       "      <th>date</th>\n",
       "      <th>open</th>\n",
       "      <th>high</th>\n",
       "      <th>low</th>\n",
       "      <th>close</th>\n",
       "      <th>vol</th>\n",
       "    </tr>\n",
       "  </thead>\n",
       "  <tbody>\n",
       "    <tr>\n",
       "      <th>1729427</th>\n",
       "      <td>A</td>\n",
       "      <td>2015-10-01</td>\n",
       "      <td>34.32</td>\n",
       "      <td>34.48</td>\n",
       "      <td>33.48</td>\n",
       "      <td>33.74</td>\n",
       "      <td>3011400</td>\n",
       "    </tr>\n",
       "    <tr>\n",
       "      <th>1729428</th>\n",
       "      <td>AA</td>\n",
       "      <td>2015-10-01</td>\n",
       "      <td>29.13</td>\n",
       "      <td>29.55</td>\n",
       "      <td>27.57</td>\n",
       "      <td>27.78</td>\n",
       "      <td>36864900</td>\n",
       "    </tr>\n",
       "    <tr>\n",
       "      <th>1729429</th>\n",
       "      <td>AAC</td>\n",
       "      <td>2015-10-01</td>\n",
       "      <td>22.27</td>\n",
       "      <td>22.69</td>\n",
       "      <td>22.11</td>\n",
       "      <td>22.59</td>\n",
       "      <td>197400</td>\n",
       "    </tr>\n",
       "    <tr>\n",
       "      <th>1729430</th>\n",
       "      <td>AAN</td>\n",
       "      <td>2015-10-01</td>\n",
       "      <td>36.25</td>\n",
       "      <td>36.62</td>\n",
       "      <td>35.98</td>\n",
       "      <td>36.32</td>\n",
       "      <td>597500</td>\n",
       "    </tr>\n",
       "    <tr>\n",
       "      <th>1729431</th>\n",
       "      <td>AAP</td>\n",
       "      <td>2015-10-01</td>\n",
       "      <td>190.28</td>\n",
       "      <td>192.64</td>\n",
       "      <td>188.10</td>\n",
       "      <td>192.04</td>\n",
       "      <td>1586900</td>\n",
       "    </tr>\n",
       "  </tbody>\n",
       "</table>\n",
       "</div>"
      ],
      "text/plain": [
       "        ticker       date    open    high     low   close       vol\n",
       "1729427      A 2015-10-01   34.32   34.48   33.48   33.74   3011400\n",
       "1729428     AA 2015-10-01   29.13   29.55   27.57   27.78  36864900\n",
       "1729429    AAC 2015-10-01   22.27   22.69   22.11   22.59    197400\n",
       "1729430    AAN 2015-10-01   36.25   36.62   35.98   36.32    597500\n",
       "1729431    AAP 2015-10-01  190.28  192.64  188.10  192.04   1586900"
      ]
     },
     "execution_count": 5,
     "metadata": {},
     "output_type": "execute_result"
    }
   ],
   "source": [
    "#read NYSE data\n",
    "path = 'private/eoddata/NYSE_*.zip'\n",
    "drop_holidays = True\n",
    "from helper_fns import *\n",
    "market = read_market_data(path, start_date=data_date_range[0], end_date=data_date_range[1], \n",
    "    drop_holidays=drop_holidays)\n",
    "print market.dtypes\n",
    "market.head()"
   ]
  },
  {
   "cell_type": "code",
   "execution_count": 8,
   "metadata": {},
   "outputs": [
    {
     "data": {
      "text/html": [
       "<div>\n",
       "<style scoped>\n",
       "    .dataframe tbody tr th:only-of-type {\n",
       "        vertical-align: middle;\n",
       "    }\n",
       "\n",
       "    .dataframe tbody tr th {\n",
       "        vertical-align: top;\n",
       "    }\n",
       "\n",
       "    .dataframe thead th {\n",
       "        text-align: right;\n",
       "    }\n",
       "</style>\n",
       "<table border=\"1\" class=\"dataframe\">\n",
       "  <thead>\n",
       "    <tr style=\"text-align: right;\">\n",
       "      <th></th>\n",
       "      <th>date</th>\n",
       "      <th>ticker</th>\n",
       "      <th>open</th>\n",
       "      <th>std</th>\n",
       "      <th>close</th>\n",
       "      <th>vol</th>\n",
       "    </tr>\n",
       "  </thead>\n",
       "  <tbody>\n",
       "    <tr>\n",
       "      <th>196399</th>\n",
       "      <td>2017-01-30</td>\n",
       "      <td>GE</td>\n",
       "      <td>29.96</td>\n",
       "      <td>0.122240</td>\n",
       "      <td>29.70</td>\n",
       "      <td>143410200</td>\n",
       "    </tr>\n",
       "    <tr>\n",
       "      <th>199299</th>\n",
       "      <td>2017-02-06</td>\n",
       "      <td>GE</td>\n",
       "      <td>29.68</td>\n",
       "      <td>0.103041</td>\n",
       "      <td>29.72</td>\n",
       "      <td>124137500</td>\n",
       "    </tr>\n",
       "    <tr>\n",
       "      <th>202199</th>\n",
       "      <td>2017-02-13</td>\n",
       "      <td>GE</td>\n",
       "      <td>29.88</td>\n",
       "      <td>0.182346</td>\n",
       "      <td>30.37</td>\n",
       "      <td>145302400</td>\n",
       "    </tr>\n",
       "    <tr>\n",
       "      <th>205102</th>\n",
       "      <td>2017-02-21</td>\n",
       "      <td>GE</td>\n",
       "      <td>30.41</td>\n",
       "      <td>0.244553</td>\n",
       "      <td>30.19</td>\n",
       "      <td>116637100</td>\n",
       "    </tr>\n",
       "    <tr>\n",
       "      <th>208007</th>\n",
       "      <td>2017-02-27</td>\n",
       "      <td>GE</td>\n",
       "      <td>30.05</td>\n",
       "      <td>0.092511</td>\n",
       "      <td>30.19</td>\n",
       "      <td>99566500</td>\n",
       "    </tr>\n",
       "  </tbody>\n",
       "</table>\n",
       "</div>"
      ],
      "text/plain": [
       "             date ticker   open       std  close        vol\n",
       "196399 2017-01-30     GE  29.96  0.122240  29.70  143410200\n",
       "199299 2017-02-06     GE  29.68  0.103041  29.72  124137500\n",
       "202199 2017-02-13     GE  29.88  0.182346  30.37  145302400\n",
       "205102 2017-02-21     GE  30.41  0.244553  30.19  116637100\n",
       "208007 2017-02-27     GE  30.05  0.092511  30.19   99566500"
      ]
     },
     "execution_count": 8,
     "metadata": {},
     "output_type": "execute_result"
    }
   ],
   "source": [
    "#resample market timeseries data across 1-week bins\n",
    "freq = 'w'\n",
    "market_resampled = resample_data(market, freq)\n",
    "idx = market_resampled['ticker'] == 'GE'\n",
    "market_resampled[idx].tail()"
   ]
  },
  {
   "cell_type": "code",
   "execution_count": 124,
   "metadata": {
    "scrolled": false
   },
   "outputs": [
    {
     "data": {
      "text/plain": [
       "<matplotlib.legend.Legend at 0x10d04c0d0>"
      ]
     },
     "execution_count": 124,
     "metadata": {},
     "output_type": "execute_result"
    },
    {
     "data": {
      "image/png": "[encoded data removed]",
      "text/plain": [
       "<Figure size 1080x432 with 1 Axes>"
      ]
     },
     "metadata": {},
     "output_type": "display_data"
    }
   ],
   "source": [
    "ticker = 'GE'\n",
    "df = market\n",
    "idx = (df['ticker'] == ticker)\n",
    "df = df[idx].set_index('date')\n",
    "fig, ax = plt.subplots(1,1, figsize=(15, 6))\n",
    "yp = df['open']\n",
    "ax.plot(yp, marker='o', markersize=3, linestyle='-', label='open')\n",
    "yp = df['close']\n",
    "ax.plot(yp, marker='o', markersize=3, linestyle='-', label='close')\n",
    "df = market_resampled\n",
    "idx = (df['ticker'] == ticker)\n",
    "df = df[idx].set_index('date')\n",
    "yp = df['open']\n",
    "xp = yp.index\n",
    "err = df['std']\n",
    "ax.errorbar(xp, yp, yerr=err, marker='o', markersize=9, linestyle='-.', alpha=0.6, label='weekly avg')\n",
    "ax.set_title('ticker = ' + ticker)\n",
    "ax.set_ylabel('share price')\n",
    "ax.set_xlabel('date')\n",
    "ax.set_xlim(plot_date_range)\n",
    "ax.legend()\n",
    "#plt.savefig('figs/field_parameters.png')"
   ]
  },
  {
   "cell_type": "code",
   "execution_count": null,
   "metadata": {},
   "outputs": [],
   "source": []
  },
  {
   "cell_type": "code",
   "execution_count": null,
   "metadata": {},
   "outputs": [],
   "source": []
  },
  {
   "cell_type": "code",
   "execution_count": null,
   "metadata": {},
   "outputs": [],
   "source": []
  },
  {
   "cell_type": "code",
   "execution_count": null,
   "metadata": {},
   "outputs": [],
   "source": [
    "#compute volume of shares traded each day\n",
    "daily_volume = market.groupby('date')['vol'].sum()\n",
    "daily_volume.head(10)"
   ]
  },
  {
   "cell_type": "code",
   "execution_count": null,
   "metadata": {},
   "outputs": [],
   "source": [
    "#plot daily volume vs date\n",
    "fig, ax = plt.subplots(figsize=(16, 6))\n",
    "xp = daily_volume.index\n",
    "yp = daily_volume.values/1.0e9\n",
    "p = ax.plot(xp, yp, linestyle='-')\n",
    "ax.set_title('NYSE daily share volume')\n",
    "ax.set_xlabel('date')\n",
    "ax.set_ylabel('shares traded    (G)')\n",
    "ax.set_ylim(0, 8)\n",
    "ax.set_xlim(plot_date_range)\n",
    "plt.savefig('figs/volume.png')"
   ]
  },
  {
   "cell_type": "code",
   "execution_count": null,
   "metadata": {},
   "outputs": [],
   "source": [
    "#compute volume-weighted share price versus date\n",
    "def volume_weighted_share_price(record):\n",
    "    vwsp = None\n",
    "    cv = record['close']*record['vol']\n",
    "    v_total = record['vol'].sum()\n",
    "    if (v_total > 0.0):\n",
    "        vwsp = cv.sum()/v_total\n",
    "    return vwsp\n",
    "vwsp = market.groupby('date').apply(volume_weighted_share_price)"
   ]
  },
  {
   "cell_type": "code",
   "execution_count": null,
   "metadata": {},
   "outputs": [],
   "source": [
    "#plot volume-weighted share price vs date\n",
    "fig, ax = plt.subplots(figsize=(16, 6))\n",
    "xp = vwsp.index\n",
    "yp = vwsp.values\n",
    "p = ax.plot(xp, yp, linestyle='-')\n",
    "ax.set_title('NYSE volume-weighted mean share price')\n",
    "ax.set_xlabel('date')\n",
    "ax.set_ylabel('volume-weighted share price')\n",
    "ax.set_ylim(31, 45)\n",
    "ax.set_xlim(plot_date_range)\n",
    "plt.savefig('figs/vwsp.png')"
   ]
  },
  {
   "cell_type": "code",
   "execution_count": null,
   "metadata": {},
   "outputs": [],
   "source": [
    "#plot fractional volume-weighted gain vs date\n",
    "fig, ax = plt.subplots(figsize=(16, 6))\n",
    "xp = vwsp.index\n",
    "yp = vwsp.values\n",
    "yp = (yp - yp[0])/yp[0]\n",
    "p = ax.plot(xp, yp, linestyle='-')\n",
    "p = ax.set_title('fractional change in NYSE volume-weighted mean share price')\n",
    "p = ax.set_xlabel('date')\n",
    "p = ax.set_ylabel('fractional gain')\n",
    "p = ax.set_xlim(plot_date_range)\n",
    "plt.savefig('figs/fractional_vwsp.png')"
   ]
  },
  {
   "cell_type": "code",
   "execution_count": null,
   "metadata": {},
   "outputs": [],
   "source": [
    "#simulate mean outcome for 25 people, each trading $10K worth of randomly selected tickers daily\n",
    "N_buyers = 25\n",
    "N_tickers = 5\n",
    "initial_dollars = 10000.0\n",
    "idx = (market['date'] >= model_date_range[0]) & (market['date'] <= model_date_range[1])\n",
    "market_data = market[idx]\n",
    "ran_purchases = random_purchases(market_data, N_buyers, N_tickers, initial_dollars)"
   ]
  },
  {
   "cell_type": "code",
   "execution_count": null,
   "metadata": {},
   "outputs": [],
   "source": [
    "#plot mean fractional gain exhibited by random purchasers\n",
    "fig, ax = plt.subplots(figsize=(16, 6))\n",
    "xp = ran_purchases.index.values\n",
    "yp = ran_purchases['dollars_mean'].values\n",
    "err = ran_purchases['dollars_std'].values/yp[0]\n",
    "yp = (yp -yp[0])/yp[0]\n",
    "p = ax.plot(xp, yp, linestyle='-')\n",
    "p = ax.errorbar(xp, yp, err, linestyle='none', alpha=0.5)\n",
    "ax.set_title('simulated outcome for daily random purchases')\n",
    "ax.set_xlabel('date')\n",
    "ax.set_ylabel('fractional gain')\n",
    "ax.set_xlim(model_date_range)\n",
    "plt.savefig('figs/random_purchases.png')"
   ]
  },
  {
   "cell_type": "code",
   "execution_count": null,
   "metadata": {},
   "outputs": [],
   "source": []
  }
 ],
 "metadata": {
  "hide_input": false,
  "kernelspec": {
   "display_name": "Python 2",
   "language": "python",
   "name": "python2"
  },
  "language_info": {
   "codemirror_mode": {
    "name": "ipython",
    "version": 2
   },
   "file_extension": ".py",
   "mimetype": "text/x-python",
   "name": "python",
   "nbconvert_exporter": "python",
   "pygments_lexer": "ipython2",
   "version": "2.7.14"
  }
 },
 "nbformat": 4,
 "nbformat_minor": 2
}
